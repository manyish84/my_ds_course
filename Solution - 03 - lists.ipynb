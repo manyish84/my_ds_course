{
 "cells": [
  {
   "cell_type": "code",
   "execution_count": null,
   "metadata": {
    "scrolled": true
   },
   "outputs": [],
   "source": [
    "# First Exercise\n",
    "\n",
    "boys_list = [\"Tom\", \"Jason\", \"Steve\"]\n",
    "girls_list = [\"Maria\", \"Michel\", \"Roxanne\"]\n",
    "\n",
    "# Adding a boy name to the end of the boys list\n",
    "boys_list.append(\"Paul\")\n",
    "\n",
    "# Adding a girl name to the begining of the girls list\n",
    "girls_list.insert(0,\"Luka\")\n",
    "\n",
    "# Move last girl from the list and move her name to a new var\n",
    "bride = girls_list.pop(-1)\n",
    "\n",
    "# Move first boy from the list and move his name to a new var\n",
    "groom = boys_list.pop(0)\n",
    "\n",
    "# Delete the last boy in the list - method might not work properly if there are duplicated values.\n",
    "boys_list.remove(boys_list[-1])\n",
    "\n",
    "# Conacatenate the 2 lists\n",
    "cont_list = boys_list + girls_list\n",
    "\n",
    "# boys_list.extend(girls_list)\n",
    "# using the extend method will add the girls' name to the boys list and not create a new list as asked\n",
    "\n",
    "print(boys_list)\n",
    "print(girls_list)\n",
    "print(cont_list)"
   ]
  },
  {
   "cell_type": "code",
   "execution_count": null,
   "metadata": {},
   "outputs": [],
   "source": [
    "# Second Exercise\n",
    "\n",
    "first_guy = [\"Tom\", 40, True]\n",
    "second_guy = [\"Jason\", 28, False]\n",
    "third_guy = [\"Steve\", 52, True]\n",
    "\n",
    "# Changing name of the second guy\n",
    "second_guy[1]=30\n",
    "\n",
    "# Add all guys to one list\n",
    "guys = [first_guy, second_guy, third_guy]\n",
    "\n",
    "# Create a new guy and add him to guys list\n",
    "fourth_guy = [\"Paul\", 27, False]\n",
    "guys.append(fourth_guy)\n",
    "\n",
    "# Change the age of the first guy in guys list\n",
    "guys[0][1]=20\n",
    "\n",
    "# Removing 2 guys from the guys list using different methods\n",
    "print(guys)\n",
    "\n",
    "temp = guys.pop(0)\n",
    "guys.remove(guys[-2])\n",
    "\n",
    "print(guys)"
   ]
  },
  {
   "cell_type": "code",
   "execution_count": null,
   "metadata": {},
   "outputs": [],
   "source": [
    "sentence = \"I enjoy the data science course very much\"\n",
    "\n",
    "# Printing each word in the sentence in a new line\n",
    "print(sentence.replace(\" \",\"\\n\"))\n",
    "\n",
    "# Choosing the letter to look for\n",
    "searched_letter = str(input(\"What is the letter you want to look for \"))\n",
    "\n",
    "# Counting \"m\" in sentence - using count method\n",
    "count_of_searched_letter = sentence.count(searched_letter) # The sentence.count can be put directly in the print function\n",
    "print(\"The letter %s\" % searched_letter, \"appers in the sentence %d times\" % count_of_searched_letter) # A lazy version\n",
    "print(\"The letter %s appers in the sentence %d times\" % (searched_letter,count_of_searched_letter)) #  Using tuples\n",
    "\n",
    "# Counting \"m\" in sentence - withou using count method\n",
    "count_of_searched_letter = 0\n",
    "for letter in sentence:\n",
    "    if letter == searched_letter:\n",
    "        count_of_searched_letter+=1\n",
    "\n",
    "# Making the output to the user and trying to be DRY\n",
    "if count_of_searched_letter == 0:\n",
    "    msg = \"doesn't appear in the sentence\"\n",
    "else:\n",
    "    msg = \"appear in the sentence %d times\" % count_of_searched_letter\n",
    "\n",
    "print(\"The letter %s\" % searched_letter, msg) # A less lazy version\n"
   ]
  },
  {
   "cell_type": "code",
   "execution_count": null,
   "metadata": {
    "collapsed": true
   },
   "outputs": [],
   "source": []
  },
  {
   "cell_type": "code",
   "execution_count": null,
   "metadata": {
    "collapsed": true
   },
   "outputs": [],
   "source": []
  }
 ],
 "metadata": {
  "kernelspec": {
   "display_name": "Python 3",
   "language": "python",
   "name": "python3"
  },
  "language_info": {
   "codemirror_mode": {
    "name": "ipython",
    "version": 3
   },
   "file_extension": ".py",
   "mimetype": "text/x-python",
   "name": "python",
   "nbconvert_exporter": "python",
   "pygments_lexer": "ipython3",
   "version": "3.6.3"
  }
 },
 "nbformat": 4,
 "nbformat_minor": 2
}
