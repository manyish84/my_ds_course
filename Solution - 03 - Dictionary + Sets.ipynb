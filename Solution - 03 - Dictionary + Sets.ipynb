{
 "cells": [
  {
   "cell_type": "markdown",
   "metadata": {},
   "source": [
    "# Dictionary"
   ]
  },
  {
   "cell_type": "markdown",
   "metadata": {},
   "source": [
    "### Exercise 1\n",
    "\n",
    "1. Create a dictionary with 3 items of the following form:\n",
    "    * key – a letter\n",
    "    * value – a list of words starting with the key letter\n",
    "2. Use the mutability of the dictionary to add a new word to each of the dictionary items without recreating its values.\n",
    "3. Add a new item to the dictionary.\n",
    "4. Remove an item from the dictionary.\n",
    "5. Create a list, whose elements are the lists of words from the dictionary."
   ]
  },
  {
   "cell_type": "code",
   "execution_count": null,
   "metadata": {},
   "outputs": [],
   "source": [
    "new_dictionary = {\"a\": [\"atom\",\"analysis\"], \"p\": [\"Python\", \"Price\"], \"f\": [\"Fish\",\"Friends\"]}\n",
    "new_dictionary[\"a\"].append(\"Alert\")\n",
    "new_dictionary[\"D\"] = \"Deloitte\"\n",
    "new_dictionary.pop(\"a\")\n",
    "new_list = list(new_dictionary.values())\n",
    "\n",
    "print(new_dictionary)\n",
    "print(new_list)"
   ]
  },
  {
   "cell_type": "markdown",
   "metadata": {
    "collapsed": true
   },
   "source": [
    "### Exercise 2\n",
    "\n",
    "In this exercise we will construct a complex dictionary step-by-step. Before you start, choose two continents, and from each continent choose two countries.\n",
    "\n",
    "1. For each of the four countries create a list of cities from that country.\n",
    "2. For each of the two continents create a dictionary with two items of the following form:\n",
    "    * key – country name\n",
    "    * value – the list of cities from that country\n",
    "3. Create a new dictionary called _world_\\__dict_ with two items of the following form:\n",
    "    * key – continent name\n",
    "    * value – the dictionary of the key continent"
   ]
  },
  {
   "cell_type": "code",
   "execution_count": null,
   "metadata": {},
   "outputs": [],
   "source": [
    "germany = [\"Munich\", \"Berlin\", \"Liepzig\"]\n",
    "italy = [\"Rome\", \"Milano\", \"Venice\"]\n",
    "usa = [\"New York\", \"Philadelohia\", \"Atlantic City\"]\n",
    "canada = [\"Toronto\", \"quebec\"]\n",
    "europe = {\"Italy\": italy, \"Germany\": germany}\n",
    "north_america = {\"USA\": usa, \"Canada\": canada}\n",
    "world_dict = {\"Europe\": europe, \"North America\": north_america}\n",
    "print(world_dict)"
   ]
  },
  {
   "cell_type": "markdown",
   "metadata": {},
   "source": [
    "# Sets"
   ]
  },
  {
   "cell_type": "markdown",
   "metadata": {},
   "source": [
    "### Exercise 1\n",
    "\n",
    "Create two strings and write a code that prints the number of their common letters (excluding duplicates).\n",
    "\n",
    "> For example the result for 'abracadabra' and 'barbarian' is 3 ('a', 'b' & 'r')."
   ]
  },
  {
   "cell_type": "code",
   "execution_count": null,
   "metadata": {},
   "outputs": [],
   "source": [
    "string1 = \"abracadabra\"\n",
    "string2 = \"barbarian\"\n",
    "set1 = set(string1)\n",
    "set2 = set(string2)\n",
    "print(len(set1 & set2))"
   ]
  },
  {
   "cell_type": "markdown",
   "metadata": {},
   "source": [
    "### Exercise 2\n",
    "\n",
    "You are given three lists, recording the visitors of the museum on Sunday, Monday and Tuesday. Note that a visitor might appear more than once even on thhe same day. Answer the following questions:\n",
    "\n",
    "1. Create sets for the unique visitors for each day and for the entire three days (4 sets in total).\n",
    "2. Is there a day, that every visitor of that day, had also visited on another day?\n",
    "3. Which visitors visited the museum on more than a single day? Which visitors visited every day??\n",
    "4. Which visitors visited the museum **only** on Tuesday?\n",
    "5. Which visitors visited **exactly** on one of the days Sunday and Monday?"
   ]
  },
  {
   "cell_type": "code",
   "execution_count": null,
   "metadata": {},
   "outputs": [],
   "source": [
    "sunday_visitors = ['abe', 'bob', 'carl', 'dave', 'ed',\n",
    "                   'heinrich', 'isabel', 'abe', 'fred']\n",
    "monday_visitors = ['abe', 'gale', 'ed', 'fred']\n",
    "tuesday_visitors = ['ed', 'bob', 'jack', 'fred', 'abe',\n",
    "                    'abe', 'jack', 'kent', 'gale']\n",
    "# question 1\n",
    "# converting the lists to sets and union them to get unique visiotor for all the days.\n",
    "unique_sun = set(sunday_visitors)\n",
    "unique_mon = set(monday_visitors)\n",
    "unique_tue = set(tuesday_visitors)\n",
    "unique_all = unique_sun | unique_mon | unique_tue\n",
    "print(unique_sun, \"\\n\", unique_mon, \"\\n\", unique_tue, \"\\n\", unique_all )\n",
    "\n",
    "# question 2\n",
    "# the only possible list is the shortest one, let's check it\n",
    "if unique_mon < unique_sun or unique_mon < unique_tue:\n",
    "    print(True)\n",
    "else:\n",
    "    print(False)\n",
    "    \n",
    "# question 3\n",
    "# first let's find the people who visited twice\n",
    "visited_atleast_twice = (unique_sun & unique_mon) | (unique_sun & unique_tue) | (unique_mon & unique_tue)\n",
    "print(visited_atleast_twice)\n",
    "\n",
    "# now we'll show the people who visit all days\n",
    "visited_all_days = unique_sun & unique_mon & unique_tue\n",
    "print(visited_all_days)\n",
    "\n",
    "# question 4\n",
    "# To find the people who visited only on Tuesday we need to use the substraction\n",
    "visited_only_on_tuesday = (unique_tue - unique_mon) | (unique_tue - unique_sun)\n",
    "print(visited_only_on_tuesday)\n",
    "\n",
    "# question 5\n",
    "visited_on_sunday_xor_monday = ((unique_sun ^ unique_mon)) - unique_tue\n",
    "print(visited_on_sunday_xor_monday)"
   ]
  }
 ],
 "metadata": {
  "kernelspec": {
   "display_name": "Python 3",
   "language": "python",
   "name": "python3"
  },
  "language_info": {
   "codemirror_mode": {
    "name": "ipython",
    "version": 3
   },
   "file_extension": ".py",
   "mimetype": "text/x-python",
   "name": "python",
   "nbconvert_exporter": "python",
   "pygments_lexer": "ipython3",
   "version": "3.6.3"
  }
 },
 "nbformat": 4,
 "nbformat_minor": 2
}
